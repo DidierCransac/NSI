{
 "cells": [
  {
   "cell_type": "markdown",
   "metadata": {},
   "source": [
    "### Typage dynamique en Python\n",
    "\n",
    "Exécuter le programme suivant:"
   ]
  },
  {
   "cell_type": "code",
   "execution_count": null,
   "metadata": {},
   "outputs": [],
   "source": [
    "a=1\n",
    "b=2\n",
    "c=\"3\"\n",
    "d=\"4\"\n",
    "print(\"a+b=\",a+b)\n",
    "print(\"c+d=\",c+d)\n",
    "int(\"b+c=\",b+d)\n"
   ]
  },
  {
   "cell_type": "markdown",
   "metadata": {},
   "source": [
    "On remarque que python peut effectuer l'opération somme de a+b, c+d mais pas de b+c. \n",
    "Dans le premier cas, a et b sont des entiers donc l'opération \"+\" est possible et correspond à l'addition.\n",
    "Dans le second cas, c et d sont des chaînes de caractère donc l'opération \"+\" est possible et correspond à la concatenation (\"juxtaposition\").\n",
    "Par contre dans le cas b+c python refuse d'effectuer une opération entre un entier et une chaine. \n",
    "\n",
    "Cela signifie donc que a et b ont été déclarés comme des entiers alors que l'on n'a pas précisé le type: le typage est automatique en python. C'est la même chose pour c et d qui ont été déclarés comme des chaîne de caractère. \n",
    "OK\n",
    "Si on se rappelle que tout est codé sous forme de nombres dans des octets, on comprend que les programmes doivent connaître le type des variables utilisées. \n"
   ]
  },
  {
   "cell_type": "code",
   "execution_count": null,
   "metadata": {},
   "outputs": [],
   "source": [
    "a=1\n",
    "b=0.1\n",
    "print(a+b)"
   ]
  },
  {
   "cell_type": "markdown",
   "metadata": {},
   "source": [
    "Ici pour effetuer l'opération, python doit convertir a en float afin de pouvoir effectuer l'opération.\n",
    "\n",
    "### Typage statique vs. dynamique\n",
    "-   Le typage est *statique* si l’information de type est associée à l’identificateur\n",
    "    -   ⇒ la vérification des types peut être réalisée lors de la compilation\n",
    "-   Le typage est *dynamique* si l’information de type est portée par l’objet lui-même\n",
    "    -   ⇒ la vérification se fait durant l’exécution\n",
    "\n",
    "### Typage statique\n",
    "-   Améliore la fiabilité du programme (plus de vérifications plus précoces)\n",
    "-   Meilleur support des outils (IDE)\n",
    "-   Meilleures performances\n",
    "\n",
    "**En C, les erreurs de type sont identifiées par le compilateur.**\n",
    "```c\n",
    "double a = \"une chaine\";\n",
    "// error: incompatible types when initializing type ‘double’ using type ‘char *’\n",
    "```\n",
    "\n",
    "### Typage dynamique\n",
    "-   Offre plus de souplesse dans l’écriture du code source\n",
    "    -   *duck typing*, *data as code*, métaprogrammation\n",
    "-   Permet le prototypage rapide\n",
    "\n",
    "**En PHP, les erreurs de type peuvent passer inaperçues.**\n",
    "```php\n",
    "$a = 1;\n",
    "$a = \"une chaine\";\n",
    "echo $a + 2; // affiche 2\n",
    "```\n",
    "\n",
    "### Typage fort vs. faible\n",
    "-   Le typage est *fort* si les manipulations entre données de types différents sont limitées et contrôlées\n",
    "-   Le typage est *faible* si les possibilités de transtypage sont nombreuses et implicites\n",
    "-   Ces notions sont relativement floues\n",
    "\n",
    "**Le C est à typage fort mais…​.**\n",
    "```c\n",
    "int a = \"une chaine\";\n",
    "printf(\"%d\\n\", a); // 443215...\n",
    "```"
   ]
  },
  {
   "cell_type": "code",
   "execution_count": null,
   "metadata": {},
   "outputs": [],
   "source": []
  },
  {
   "cell_type": "code",
   "execution_count": null,
   "metadata": {},
   "outputs": [],
   "source": []
  },
  {
   "cell_type": "code",
   "execution_count": null,
   "metadata": {},
   "outputs": [],
   "source": []
  }
 ],
 "metadata": {
  "kernelspec": {
   "display_name": "Python 3",
   "language": "python",
   "name": "python3"
  },
  "language_info": {
   "codemirror_mode": {
    "name": "ipython",
    "version": 3
   },
   "file_extension": ".py",
   "mimetype": "text/x-python",
   "name": "python",
   "nbconvert_exporter": "python",
   "pygments_lexer": "ipython3",
   "version": "3.6.3"
  }
 },
 "nbformat": 4,
 "nbformat_minor": 2
}
